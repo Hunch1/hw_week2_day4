{
 "cells": [
  {
   "cell_type": "markdown",
   "metadata": {},
   "source": [
    "# Object-Oriented-Programming (OOP)"
   ]
  },
  {
   "cell_type": "markdown",
   "metadata": {},
   "source": [
    "## Tasks Today:\n",
    "\n",
    "   \n",
    "\n",
    "1) <b>Creating a Class (Initializing/Declaring)</b> <br>\n",
    "2) <b>Using a Class (Instantiating)</b> <br>\n",
    " &nbsp;&nbsp;&nbsp;&nbsp; a) Creating One Instance <br>\n",
    " &nbsp;&nbsp;&nbsp;&nbsp; b) Creating Multiple Instances <br>\n",
    " &nbsp;&nbsp;&nbsp;&nbsp; c) In-Class Exercise #1 - Create a Class 'Car' and instantiate three different makes of cars <br>\n",
    "3) <b>The \\__init\\__() Method</b> <br>\n",
    " &nbsp;&nbsp;&nbsp;&nbsp; a) The 'self' Attribute <br>\n",
    "4) <b>Class Attributes</b> <br>\n",
    " &nbsp;&nbsp;&nbsp;&nbsp; a) Initializing Attributes <br>\n",
    " &nbsp;&nbsp;&nbsp;&nbsp; b) Setting an Attribute Outside of the \\__init\\__() Method <br>\n",
    " &nbsp;&nbsp;&nbsp;&nbsp; c) Setting Defaults for Attributes <br>\n",
    " &nbsp;&nbsp;&nbsp;&nbsp; d) Accessing Class Attributes <br>\n",
    " &nbsp;&nbsp;&nbsp;&nbsp; e) Changing Class Attributes <br>\n",
    " &nbsp;&nbsp;&nbsp;&nbsp; f) In-Class Exercise #2 - Add a color and wheels attribute to your 'Car' class <br>\n",
    "5) <b>Class Methods</b> <br>\n",
    " &nbsp;&nbsp;&nbsp;&nbsp; a) Creating <br>\n",
    " &nbsp;&nbsp;&nbsp;&nbsp; b) Calling <br>\n",
    " &nbsp;&nbsp;&nbsp;&nbsp; c) Modifying an Attribute's Value Through a Method <br>\n",
    " &nbsp;&nbsp;&nbsp;&nbsp; d) Incrementing an Attribute's Value Through a Method <br>\n",
    " &nbsp;&nbsp;&nbsp;&nbsp; e) In-Class Exercise #3 - Add a method that prints the cars color and wheel number, then call them <br>\n",
    "6) <b>Inheritance</b> <br>\n",
    " &nbsp;&nbsp;&nbsp;&nbsp; a) Syntax for Inheriting from a Parent Class <br>\n",
    " &nbsp;&nbsp;&nbsp;&nbsp; b) The \\__init\\__() Method for a Child Class (super()) <br>\n",
    " &nbsp;&nbsp;&nbsp;&nbsp; c) Defining Attributes and Methods for the Child Class <br>\n",
    " &nbsp;&nbsp;&nbsp;&nbsp; d) Method Overriding <br>\n",
    " &nbsp;&nbsp;&nbsp;&nbsp; e) In-Class Exercise #4 - Create a class 'Ford' that inherits from 'Car' class and initialize it as a Blue Ford Explorer with 4 wheels using the super() method <br>\n",
    "7) <b>Exercises</b> <br>\n",
    " &nbsp;&nbsp;&nbsp;&nbsp; a) Exercise #1 - Turn the shopping cart program from yesterday into an object-oriented program <br>"
   ]
  },
  {
   "cell_type": "markdown",
   "metadata": {},
   "source": [
    "## Creating a Class (Initializing/Declaring)\n",
    "<p>When creating a class, function, or even a variable you are initializing that object. Initializing and Declaring occur at the same time in Python, whereas in lower level languages you have to declare an object before initializing it. This is the first step in the process of using a class.</p>"
   ]
  },
  {
   "cell_type": "code",
   "execution_count": 1,
   "metadata": {},
   "outputs": [],
   "source": [
    "class Car():\n",
    "    wheels = 4\n",
    "    color = 'blue'\n",
    "\n"
   ]
  },
  {
   "cell_type": "markdown",
   "metadata": {},
   "source": [
    "## Using a Class (Instantiating)\n",
    "<p>The process of creating a class is called <i>Instantiating</i>. Each time you create a variable of that type of class, it is referred to as an <i>Instance</i> of that class. This is the second step in the process of using a class.</p>"
   ]
  },
  {
   "cell_type": "markdown",
   "metadata": {},
   "source": [
    "##### Creating One Instance"
   ]
  },
  {
   "cell_type": "code",
   "execution_count": 2,
   "metadata": {},
   "outputs": [
    {
     "name": "stdout",
     "output_type": "stream",
     "text": [
      "4\n"
     ]
    }
   ],
   "source": [
    "ford = Car()\n",
    "print(ford.wheels)"
   ]
  },
  {
   "cell_type": "markdown",
   "metadata": {},
   "source": [
    "##### Creating Multiple Instances"
   ]
  },
  {
   "cell_type": "code",
   "execution_count": 3,
   "metadata": {},
   "outputs": [
    {
     "name": "stdout",
     "output_type": "stream",
     "text": [
      "blue\n"
     ]
    }
   ],
   "source": [
    "nissan = Car()\n",
    "chevy = Car()\n",
    "lambo = Car()\n",
    "print(nissan.color)"
   ]
  },
  {
   "cell_type": "markdown",
   "metadata": {},
   "source": [
    "##### In-Class Exercise #1 - Create a Class 'Car' and Instantiate three different makes of cars"
   ]
  },
  {
   "cell_type": "code",
   "execution_count": null,
   "metadata": {},
   "outputs": [],
   "source": [
    "class Car():\n",
    "    wheels = 3\n",
    "    color = 'purple'\n",
    "    seats = 2\n",
    "\n",
    "    "
   ]
  },
  {
   "cell_type": "markdown",
   "metadata": {},
   "source": [
    "## The \\__init\\__() Method <br>\n",
    "<p>This method is used in almost every created class, and called only once upon the creation of the class instance. This method will initialize all variables needed for the object.</p>"
   ]
  },
  {
   "cell_type": "code",
   "execution_count": 4,
   "metadata": {},
   "outputs": [
    {
     "name": "stdout",
     "output_type": "stream",
     "text": [
      "Philadelphia\n"
     ]
    }
   ],
   "source": [
    "class nflteam():\n",
    "    def __init__(self, city, name):\n",
    "        self.city = city\n",
    "        self.name = name\n",
    "\n",
    "eagle = nflteam('Philadelphia', 'Eagles')\n",
    "print(eagle.city)"
   ]
  },
  {
   "cell_type": "markdown",
   "metadata": {},
   "source": [
    "##### The 'self' Attribute <br>\n",
    "<p>This attribute is required to keep track of specific instance's attributes. Without the self attribute, the program would not know how to reference or keep track of an instance's attributes.</p>"
   ]
  },
  {
   "cell_type": "code",
   "execution_count": null,
   "metadata": {},
   "outputs": [],
   "source": [
    "# see above"
   ]
  },
  {
   "cell_type": "markdown",
   "metadata": {},
   "source": [
    "## Class Attributes <br>\n",
    "<p>While variables are inside of a class, they are referred to as attributes and not variables. When someone says 'attribute' you know they're speaking about a class. Attributes can be initialized through the init method, or outside of it.</p>"
   ]
  },
  {
   "cell_type": "markdown",
   "metadata": {},
   "source": [
    "##### Initializing Attributes"
   ]
  },
  {
   "cell_type": "code",
   "execution_count": null,
   "metadata": {},
   "outputs": [],
   "source": [
    "# see above"
   ]
  },
  {
   "cell_type": "markdown",
   "metadata": {},
   "source": [
    "##### Accessing Class Attributes"
   ]
  },
  {
   "cell_type": "code",
   "execution_count": null,
   "metadata": {
    "scrolled": true
   },
   "outputs": [],
   "source": [
    "# See Above"
   ]
  },
  {
   "cell_type": "markdown",
   "metadata": {},
   "source": [
    "##### Setting Defaults for Attributes"
   ]
  },
  {
   "cell_type": "code",
   "execution_count": 9,
   "metadata": {},
   "outputs": [
    {
     "data": {
      "text/plain": [
       "{'city': 'San diego', 'name': 'heat', 'year': 2019}"
      ]
     },
     "execution_count": 9,
     "metadata": {},
     "output_type": "execute_result"
    }
   ],
   "source": [
    "class NbaTeam():\n",
    "    def __init__(self, city, name, year=2023):\n",
    "        self.city = city\n",
    "        self.name = name\n",
    "        self.year = year\n",
    "heat = NbaTeam('miami', 'heat', 2019)\n",
    "heat.year     \n",
    "\n",
    "# changing an instance property\n",
    "\n",
    "heat.city= 'San diego'\n",
    "\n",
    "\n",
    "\n",
    "#view as dic\n",
    "heat.__dict__\n"
   ]
  },
  {
   "attachments": {},
   "cell_type": "markdown",
   "metadata": {},
   "source": [
    "##### Changing Instance Attributes <br>\n",
    "<p>Keep in mind there are global class attributes and then there are attributes only available to each class instance which won't effect other classes.</p>"
   ]
  },
  {
   "cell_type": "code",
   "execution_count": null,
   "metadata": {},
   "outputs": [],
   "source": [
    "# see above"
   ]
  },
  {
   "cell_type": "markdown",
   "metadata": {},
   "source": [
    "##### In-Class Exercise #2 - Add a doors and seats attribute to your 'Car' class then print out two different instances with different doors and seats"
   ]
  },
  {
   "cell_type": "code",
   "execution_count": 14,
   "metadata": {},
   "outputs": [
    {
     "name": "stdout",
     "output_type": "stream",
     "text": [
      "4\n",
      "10\n"
     ]
    }
   ],
   "source": [
    "class Car():\n",
    "    def __init__(self, doors, seats):\n",
    "        self.doors = doors\n",
    "        self.seats = seats\n",
    "\n",
    "chevy = Car('4','2')\n",
    "ford = Car('10', '1')\n",
    "print(chevy.doors)\n",
    "print(ford.doors)"
   ]
  },
  {
   "cell_type": "markdown",
   "metadata": {},
   "source": [
    "## Class Methods <br>\n",
    "<p>While inside of a class, functions are referred to as 'methods'. If you hear someone mention methods, they're speaking about classes. Methods are essentially functions, but only callable on the instances of a class.</p>"
   ]
  },
  {
   "cell_type": "markdown",
   "metadata": {},
   "source": [
    "##### Creating"
   ]
  },
  {
   "cell_type": "code",
   "execution_count": 7,
   "metadata": {},
   "outputs": [
    {
     "name": "stdout",
     "output_type": "stream",
     "text": [
      "Invalid input, please try again...\n",
      "kobe was added to your roster!\n",
      "Your current roster is {'kobe': 2}\n",
      "Good luck this season\n"
     ]
    }
   ],
   "source": [
    "# class Roster():\n",
    "#     def __init__(self):\n",
    "#         self.depth_chart = {}\n",
    "#         self.num_of_players = 0\n",
    "\n",
    "#     def addPlayer(self):\n",
    "#         name = input('What player would you like to add to your roster?')\n",
    "#         jersey_num = int(input(f'What number will {name} have?'))\n",
    "#         self.depth_chart[name] = jersey_num\n",
    "#         self.num_of_players += 1\n",
    "#         print(f'{name} was added to your roaster!')\n",
    "#         print(f'Your current roser is {self.depth_chart}')\n",
    "\n",
    "#     def removePlayer(self):\n",
    "#         name = input('What player would you like to remove from your rosetr?')\n",
    "#         if (name in self.depth_chart):\n",
    "#             del self.depth_chart[name]\n",
    "#             self.num_of_players -= 1\n",
    "#             print(f'{name} has been removed from your roster!')\n",
    "#             print(f'Your current roster is {self.depth_chart}')\n",
    "#         else:\n",
    "#             print(f'{name} is not on your team.')\n",
    "\n",
    "\n",
    "#     def showPlayers(self):\n",
    "#         print(f'Your roster has {self.num_of_players}')\n",
    "#         print('--------Current roster-------')\n",
    "#         for key,value in self.depth_chart.items():\n",
    "#             print(key,value)\n",
    "\n",
    "\n",
    "#     def runner(self):\n",
    "#         while True:\n",
    "#             choice = input('What would you like to do? (add, remove, show or quit)').lower\n",
    "#             if (choice == 'quit'):\n",
    "#                 break\n",
    "#             elif (choice == 'add'):\n",
    "#                 self.addPlayer()\n",
    "#             elif (choice == 'remove'):\n",
    "#                 self.removePLayer()\n",
    "#             elif (choice == 'show'):\n",
    "#                 self.showPlayers()\n",
    "#             else:\n",
    "#                 print('Invalid input, please try again...')\n",
    "\n",
    "\n",
    "\n",
    "\n",
    "\n",
    "class Roster():\n",
    "    def __init__(self):\n",
    "        self.depth_chart = {}\n",
    "        self.num_of_players = 0\n",
    "    \n",
    "    def addPlayer(self):\n",
    "        name = input('What player would you like to add to your roster?')\n",
    "        jersey_num = int(input(f'What number will {name} have?'))\n",
    "        self.depth_chart[name] = jersey_num\n",
    "        self.num_of_players += 1\n",
    "        print(f'{name} was added to your roster!')\n",
    "        print(f'Your current roster is {self.depth_chart}')\n",
    "    \n",
    "    def removePlayer(self):\n",
    "        name = input('What player would you like to remove from your roster?')\n",
    "        if (name in self.depth_chart):\n",
    "            del self.depth_chart[name]\n",
    "            self.num_of_players -= 1\n",
    "            print(f'{name} has been removed from your roster!')\n",
    "            print(f'Your current roster is {self.depth_chart}.')\n",
    "        else:\n",
    "            print(f'{name} is not on your team.')\n",
    "    \n",
    "    def showPlayers(self):\n",
    "        print(f'Your roster has {self.num_of_players} players')\n",
    "        print('---------- Current Roster ----------')\n",
    "        for key,value in self.depth_chart.items():\n",
    "            print(key,value)\n",
    "    \n",
    "    def runner(self):\n",
    "        while True:\n",
    "            choice = input('What would you like to do? (add, remove, show, or quit)').lower()\n",
    "            if (choice == 'quit'):\n",
    "                print('Good luck this season')\n",
    "                break\n",
    "            elif (choice == 'add'):\n",
    "                self.addPlayer()\n",
    "            elif (choice == 'remove'):\n",
    "                self.removePlayer()\n",
    "            elif (choice == 'show'):\n",
    "                self.showPlayers()\n",
    "            else:\n",
    "                print('Invalid input, please try again...')\n",
    "\n",
    "\n",
    "thievesRoster = Roster()\n",
    "thievesRoster.runner()"
   ]
  },
  {
   "cell_type": "markdown",
   "metadata": {},
   "source": [
    "##### Calling"
   ]
  },
  {
   "cell_type": "code",
   "execution_count": null,
   "metadata": {},
   "outputs": [],
   "source": [
    "# See Above"
   ]
  },
  {
   "cell_type": "markdown",
   "metadata": {},
   "source": [
    "##### Modifying an Attribute's Value Through a Method"
   ]
  },
  {
   "cell_type": "code",
   "execution_count": null,
   "metadata": {},
   "outputs": [],
   "source": [
    "# see above\n"
   ]
  },
  {
   "cell_type": "markdown",
   "metadata": {},
   "source": [
    "##### Incrementing an Attribute's Value Through a Method"
   ]
  },
  {
   "cell_type": "code",
   "execution_count": null,
   "metadata": {},
   "outputs": [],
   "source": [
    "# see above\n"
   ]
  },
  {
   "cell_type": "markdown",
   "metadata": {},
   "source": [
    "## Inheritance <br>\n",
    "<p>You can create a child-parent relationship between two classes by using inheritance. What this allows you to do is have overriding methods, but also inherit traits from the parent class. Think of it as an actual parent and child, the child will inherit the parent's genes, as will the classes in OOP</p>"
   ]
  },
  {
   "cell_type": "markdown",
   "metadata": {},
   "source": [
    "##### Syntax for Inheriting from a Parent Class"
   ]
  },
  {
   "cell_type": "code",
   "execution_count": null,
   "metadata": {},
   "outputs": [],
   "source": []
  },
  {
   "cell_type": "markdown",
   "metadata": {},
   "source": [
    "##### The \\__init\\__() Method for a Child Class - super()"
   ]
  },
  {
   "cell_type": "code",
   "execution_count": null,
   "metadata": {
    "scrolled": true
   },
   "outputs": [],
   "source": [
    "# see above"
   ]
  },
  {
   "cell_type": "markdown",
   "metadata": {},
   "source": [
    "##### Defining Attributes and Methods for the Child Class"
   ]
  },
  {
   "cell_type": "code",
   "execution_count": null,
   "metadata": {},
   "outputs": [],
   "source": [
    "# See Above"
   ]
  },
  {
   "cell_type": "markdown",
   "metadata": {},
   "source": [
    "# Exercises"
   ]
  },
  {
   "cell_type": "markdown",
   "metadata": {},
   "source": [
    "### Exercise 1 - Turn the shopping cart program from yesterday into an object-oriented program\n",
    "\n",
    "The comments in the cell below are there as a guide for thinking about the problem. However, if you feel a different way is best for you and your own thought process, please do what feels best for you by all means."
   ]
  },
  {
   "cell_type": "code",
   "execution_count": 3,
   "metadata": {},
   "outputs": [
    {
     "name": "stdout",
     "output_type": "stream",
     "text": [
      "milk has been added to your cart!\n",
      "Your cart has 1 item(s)!!!\n",
      "******Current Shopping Cart*******\n",
      "milk 3\n",
      "Your cart has 1 item(s)!!!\n",
      "******Current Shopping Cart*******\n",
      "milk 3\n",
      "milk has been added to your cart!\n",
      "Your cart has 2 item(s)!!!\n",
      "******Current Shopping Cart*******\n",
      "milk 1\n",
      "Your cart has 2 item(s)!!!\n",
      "******Current Shopping Cart*******\n",
      "milk 1\n",
      "Thank you for shopping with us!!! Please come again!!!\n"
     ]
    }
   ],
   "source": [
    "# Create a class called cart that retains items and has methods to add, remove, and show\n",
    "\n",
    "class Cart():\n",
    "    def __init__(self):\n",
    "        self.depth_chart = {}\n",
    "        self.num_of_items = 0\n",
    "    \n",
    "\n",
    "    def additem(self):\n",
    "        item = input('What item would you like to add to your shopping cart?')\n",
    "        item_num = int(input(f'How many of {item} would you like to add?'))\n",
    "        self.depth_chart[item] = item_num\n",
    "        self.num_of_items += 1\n",
    "        print(f'{item} has been added to your cart!')\n",
    "\n",
    "    def removeitem(self):\n",
    "        item = input('What item would you like to remove from your shopping cart?')\n",
    "        if (item in self.depth_chart):\n",
    "            del self.depth_chart[item]\n",
    "            self.num_of_items -= 1\n",
    "            print(f'{item} has been removed from your shopping cart')\n",
    "        else:\n",
    "            (f'{item} is not in your shopping cart!!!')\n",
    "    \n",
    "    def showitem(self):\n",
    "       print(f'Your cart has {self.num_of_items} item(s)!!!')\n",
    "       print('******Current Shopping Cart*******')\n",
    "       for key,value in self.depth_chart.items():\n",
    "           print(key, value) \n",
    "\n",
    "\n",
    "    def runner(self):\n",
    "        while True:\n",
    "            choice = input('Welcome to our little shop, what would you like to do with your shopping cart??  (add, remove, show, or quit)').lower()\n",
    "            if (choice == 'quit'):\n",
    "                print('Thank you for shopping with us!!! Please come again!!!')\n",
    "                break\n",
    "            elif (choice == 'add'):\n",
    "                self.additem()\n",
    "            elif (choice == 'remove'):\n",
    "                self.removeitem()\n",
    "            elif (choice == 'show'):\n",
    "                self.showitem()\n",
    "            else:\n",
    "                print('Invalid input, please try again...')\n",
    "\n",
    "yourcart = Cart()\n",
    "yourcart.runner()"
   ]
  },
  {
   "cell_type": "markdown",
   "metadata": {},
   "source": [
    "### Exercise 2 - Write a Python class which has two methods get_String and print_String. get_String accept a string from the user and print_String print the string in upper case"
   ]
  },
  {
   "cell_type": "code",
   "execution_count": 10,
   "metadata": {},
   "outputs": [
    {
     "name": "stdout",
     "output_type": "stream",
     "text": [
      "STRING\n"
     ]
    }
   ],
   "source": [
    "class upperstring():\n",
    "    def __init__(self):\n",
    "        self.user_input = ''\n",
    "\n",
    "    def get_string(self):\n",
    "        self.user_input = input('Please enter a lowercase string here')\n",
    "\n",
    "    def print_string(self):\n",
    "        print(self.user_input.upper())    \n",
    "        \n",
    "string = upperstring()\n",
    "string.get_string()\n",
    "string.print_string()"
   ]
  }
 ],
 "metadata": {
  "kernelspec": {
   "display_name": "Python 3",
   "language": "python",
   "name": "python3"
  },
  "language_info": {
   "codemirror_mode": {
    "name": "ipython",
    "version": 3
   },
   "file_extension": ".py",
   "mimetype": "text/x-python",
   "name": "python",
   "nbconvert_exporter": "python",
   "pygments_lexer": "ipython3",
   "version": "3.11.5"
  },
  "vscode": {
   "interpreter": {
    "hash": "aa82987a71ca0339a52998cd22613b0c002bda8349fa32a0cb67ceec3936a2bf"
   }
  }
 },
 "nbformat": 4,
 "nbformat_minor": 2
}
